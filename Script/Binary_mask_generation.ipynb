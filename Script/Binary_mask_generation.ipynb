{
 "cells": [
  {
   "cell_type": "code",
   "execution_count": 2,
   "id": "initial_id",
   "metadata": {
    "collapsed": true,
    "ExecuteTime": {
     "end_time": "2023-08-28T08:50:02.835787500Z",
     "start_time": "2023-08-28T08:50:02.786274500Z"
    }
   },
   "outputs": [],
   "source": [
    "import os\n",
    "from osgeo import gdal\n",
    "import numpy as np"
   ]
  },
  {
   "cell_type": "markdown",
   "source": [
    "Training"
   ],
   "metadata": {
    "collapsed": false
   },
   "id": "a13f661c2e032e3b"
  },
  {
   "cell_type": "code",
   "execution_count": 3,
   "outputs": [
    {
     "name": "stderr",
     "output_type": "stream",
     "text": [
      "C:\\Users\\wumin\\anaconda3\\envs\\deep_learning\\lib\\site-packages\\osgeo\\gdal.py:287: FutureWarning: Neither gdal.UseExceptions() nor gdal.DontUseExceptions() has been explicitly called. In GDAL 4.0, exceptions will be enabled by default.\n",
      "  warnings.warn(\n"
     ]
    },
    {
     "name": "stdout",
     "output_type": "stream",
     "text": [
      "[0 1 2 3]\n"
     ]
    }
   ],
   "source": [
    "tiff_image = gdal.Open(r\"C:\\Document\\University\\2023_Spring_Junior\\GEOG_491\\Dataset\\August_Complex\\Deep_learning\\mask\\training\\truth_2\\python_train_dnbr.tif\")\n",
    "mask = tiff_image.GetRasterBand(1).ReadAsArray()\n",
    "\n",
    "print(np.unique(mask))\n",
    "new_arr = mask"
   ],
   "metadata": {
    "collapsed": false,
    "ExecuteTime": {
     "end_time": "2023-08-28T08:50:26.047034700Z",
     "start_time": "2023-08-28T08:50:25.342930Z"
    }
   },
   "id": "461c0869accb7f6"
  },
  {
   "cell_type": "code",
   "execution_count": 4,
   "outputs": [],
   "source": [
    "def replace_pixels(image, old_value, new_value):\n",
    "    image[image == old_value] = new_value\n",
    "    return image"
   ],
   "metadata": {
    "collapsed": false,
    "ExecuteTime": {
     "end_time": "2023-08-28T08:53:33.260211500Z",
     "start_time": "2023-08-28T08:53:33.245568300Z"
    }
   },
   "id": "89619284f4923082"
  },
  {
   "cell_type": "code",
   "execution_count": 6,
   "outputs": [
    {
     "name": "stdout",
     "output_type": "stream",
     "text": [
      "[0 1]\n"
     ]
    }
   ],
   "source": [
    "new_image = replace_pixels(new_arr, 3, 1)\n",
    "print(np.unique(new_image))"
   ],
   "metadata": {
    "collapsed": false,
    "ExecuteTime": {
     "end_time": "2023-08-28T08:53:57.322689400Z",
     "start_time": "2023-08-28T08:53:56.871190700Z"
    }
   },
   "id": "1e912af9baac606e"
  },
  {
   "cell_type": "code",
   "execution_count": 7,
   "outputs": [],
   "source": [
    "# Export tiff\n",
    "ds = gdal.Open(r\"C:\\Document\\University\\2023_Spring_Junior\\GEOG_491\\Dataset\\August_Complex\\Deep_learning\\mask\\training\\rgb_train.tif\", gdal.GA_ReadOnly)\n",
    "out = r\"C:\\Document\\University\\2023_Spring_Junior\\GEOG_491\\Dataset\\August_Complex\\Deep_learning\\mask\\training\\truth_2\\python_train_dnbr_binary.tif\"\n",
    "\n",
    "rows = ds.RasterYSize\n",
    "cols = ds.RasterXSize\n",
    "bands = ds.RasterCount\n",
    "gt = ds.GetGeoTransform()\n",
    "prj = ds.GetProjectionRef()\n",
    "\n",
    "classification = new_image.reshape((rows,cols))\n",
    "def createGeotiff(out, data, gt, prj):\n",
    "    driver = gdal.GetDriverByName('GTiff')\n",
    "    rows, cols = data.shape\n",
    "    rasterDS = driver.Create(out, cols, rows, 1, gdal.GDT_Int32)\n",
    "    rasterDS.SetGeoTransform(gt)\n",
    "    rasterDS.SetProjection(prj)\n",
    "    band = rasterDS.GetRasterBand(1)\n",
    "    band.WriteArray(data)\n",
    "    rasterDS = None\n",
    "\n",
    "createGeotiff(out,classification,gt,prj)"
   ],
   "metadata": {
    "collapsed": false,
    "ExecuteTime": {
     "end_time": "2023-08-28T08:55:06.870164500Z",
     "start_time": "2023-08-28T08:55:06.525532700Z"
    }
   },
   "id": "814a81820e4dfc68"
  },
  {
   "cell_type": "markdown",
   "source": [
    "Testing"
   ],
   "metadata": {
    "collapsed": false
   },
   "id": "7f83b76e4f32d0ef"
  },
  {
   "cell_type": "code",
   "execution_count": 8,
   "outputs": [
    {
     "name": "stdout",
     "output_type": "stream",
     "text": [
      "[0 1 2 3]\n"
     ]
    }
   ],
   "source": [
    "tiff_image = gdal.Open(r\"C:\\Document\\University\\2023_Spring_Junior\\GEOG_491\\Dataset\\August_Complex\\Deep_learning\\mask\\testing\\truth_2\\python_test_dnbr.tif\")\n",
    "mask = tiff_image.GetRasterBand(1).ReadAsArray()\n",
    "\n",
    "print(np.unique(mask))\n",
    "new_arr = mask"
   ],
   "metadata": {
    "collapsed": false,
    "ExecuteTime": {
     "end_time": "2023-08-28T08:56:36.885469Z",
     "start_time": "2023-08-28T08:56:36.825355300Z"
    }
   },
   "id": "ed8f7741c4a2049a"
  },
  {
   "cell_type": "code",
   "execution_count": 10,
   "outputs": [
    {
     "name": "stdout",
     "output_type": "stream",
     "text": [
      "[0 1]\n"
     ]
    }
   ],
   "source": [
    "new_image = replace_pixels(new_arr, 3, 1)\n",
    "print(np.unique(new_image))"
   ],
   "metadata": {
    "collapsed": false,
    "ExecuteTime": {
     "end_time": "2023-08-28T08:56:52.190251900Z",
     "start_time": "2023-08-28T08:56:52.149218800Z"
    }
   },
   "id": "dcc2aab103f4919a"
  },
  {
   "cell_type": "code",
   "execution_count": 12,
   "outputs": [],
   "source": [
    "# Export tiff\n",
    "ds = gdal.Open(r\"C:\\Document\\University\\2023_Spring_Junior\\GEOG_491\\Dataset\\August_Complex\\Deep_learning\\mask\\testing\\testing_mask.tif\", gdal.GA_ReadOnly)\n",
    "out = r\"C:\\Document\\University\\2023_Spring_Junior\\GEOG_491\\Dataset\\August_Complex\\Deep_learning\\mask\\testing\\truth_2\\python_test_dnbr_binary.tif\"\n",
    "\n",
    "rows = ds.RasterYSize\n",
    "cols = ds.RasterXSize\n",
    "bands = ds.RasterCount\n",
    "gt = ds.GetGeoTransform()\n",
    "prj = ds.GetProjectionRef()\n",
    "\n",
    "classification = new_arr.reshape((rows,cols))\n",
    "def createGeotiff(out, data, gt, prj):\n",
    "    driver = gdal.GetDriverByName('GTiff')\n",
    "    rows, cols = data.shape\n",
    "    rasterDS = driver.Create(out, cols, rows, 1, gdal.GDT_Int32)\n",
    "    rasterDS.SetGeoTransform(gt)\n",
    "    rasterDS.SetProjection(prj)\n",
    "    band = rasterDS.GetRasterBand(1)\n",
    "    band.WriteArray(data)\n",
    "    rasterDS = None\n",
    "\n",
    "createGeotiff(out,classification,gt,prj)"
   ],
   "metadata": {
    "collapsed": false,
    "ExecuteTime": {
     "end_time": "2023-08-28T09:03:54.930830100Z",
     "start_time": "2023-08-28T09:03:54.872644900Z"
    }
   },
   "id": "6a89e9aff91a8c15"
  },
  {
   "cell_type": "code",
   "execution_count": null,
   "outputs": [],
   "source": [],
   "metadata": {
    "collapsed": false
   },
   "id": "8b725fe6227e2d14"
  }
 ],
 "metadata": {
  "kernelspec": {
   "display_name": "Python 3",
   "language": "python",
   "name": "python3"
  },
  "language_info": {
   "codemirror_mode": {
    "name": "ipython",
    "version": 2
   },
   "file_extension": ".py",
   "mimetype": "text/x-python",
   "name": "python",
   "nbconvert_exporter": "python",
   "pygments_lexer": "ipython2",
   "version": "2.7.6"
  }
 },
 "nbformat": 4,
 "nbformat_minor": 5
}
