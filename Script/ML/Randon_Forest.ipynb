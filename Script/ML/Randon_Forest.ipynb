{
  "cells": [
    {
      "cell_type": "code",
      "source": [
        "import cuml\n",
        "from cuml.svm import SVC\n",
        "import numpy as np\n",
        "from cuml.svm import LinearSVC\n",
        "from cuml.ensemble import RandomForestClassifier"
      ],
      "metadata": {
        "id": "-FnnUWfR4F8N"
      },
      "id": "-FnnUWfR4F8N",
      "execution_count": null,
      "outputs": []
    },
    {
      "cell_type": "code",
      "id": "e32d943b",
      "metadata": {
        "ExecuteTime": {
          "end_time": "2024-07-20T05:46:15.694115Z",
          "start_time": "2024-07-20T05:46:08.427802Z"
        },
        "id": "e32d943b"
      },
      "source": [
        "from osgeo import gdal\n",
        "import pandas as pd\n",
        "import numpy as np\n",
        "from sklearn.ensemble import RandomForestClassifier\n",
        "import geopandas as gpd\n",
        "import numpy as np\n",
        "from sklearn import metrics\n",
        "import os\n",
        "import matplotlib.pylab as plt\n",
        "from sklearn.model_selection import (\n",
        "    TimeSeriesSplit,\n",
        "    KFold,\n",
        "    ShuffleSplit,\n",
        "    StratifiedKFold,\n",
        "    GroupShuffleSplit,\n",
        "    GroupKFold,\n",
        "    StratifiedShuffleSplit,\n",
        "    StratifiedGroupKFold,\n",
        ")\n",
        "from mpl_toolkits import mplot3d\n",
        "from sklearn.model_selection import cross_val_score, cross_val_predict\n",
        "from sklearn.metrics import classification_report\n",
        "from keras.metrics import MeanIoU\n",
        "import joblib\n",
        "from sklearn.model_selection import train_test_split\n",
        "from scipy.stats import mode"
      ],
      "outputs": [],
      "execution_count": null
    },
    {
      "cell_type": "code",
      "source": [
        "from google.colab import drive\n",
        "drive.mount('/content/drive')"
      ],
      "metadata": {
        "colab": {
          "base_uri": "https://localhost:8080/"
        },
        "id": "kuw-i7y-4j39",
        "outputId": "f1186025-0981-4858-eb5e-49c85954c9b5"
      },
      "id": "kuw-i7y-4j39",
      "execution_count": null,
      "outputs": [
        {
          "output_type": "stream",
          "name": "stdout",
          "text": [
            "Drive already mounted at /content/drive; to attempt to forcibly remount, call drive.mount(\"/content/drive\", force_remount=True).\n"
          ]
        }
      ]
    },
    {
      "metadata": {
        "id": "716d3f45a9b57f06"
      },
      "cell_type": "markdown",
      "source": [
        "# Random Forest"
      ],
      "id": "716d3f45a9b57f06"
    },
    {
      "metadata": {
        "id": "c5e32672cb0ce944"
      },
      "cell_type": "markdown",
      "source": [
        "# Import training data"
      ],
      "id": "c5e32672cb0ce944"
    },
    {
      "metadata": {
        "ExecuteTime": {
          "end_time": "2024-07-20T05:46:22.507389Z",
          "start_time": "2024-07-20T05:46:21.282235Z"
        },
        "colab": {
          "base_uri": "https://localhost:8080/"
        },
        "id": "d82ab2d0aa22a52e",
        "outputId": "a6367a88-2207-4fc5-ca78-2498c9132cd0"
      },
      "cell_type": "code",
      "source": [
        "# Open the TIFF file\n",
        "dataset = gdal.Open(\"/content/drive/MyDrive/Colab Notebooks/Revision/clipped_post.tif\", gdal.GA_ReadOnly)\n",
        "\n",
        "# Read the first band (index starts at 1)\n",
        "band9 = dataset.GetRasterBand(9)\n",
        "band9 = band9.ReadAsArray()\n",
        "# train = gpd.read_file(r\"C:\\Document\\University\\2023_Spring_Junior\\GEOG_491\\Dataset\\August_Complex\\Raw_testing\\Post\\matched_post.tif\")\n",
        "band9=band9.reshape(44236800, 1)\n",
        "band8 = dataset.GetRasterBand(8)\n",
        "band8 = band8.ReadAsArray()\n",
        "band8=band8.reshape(44236800, 1)\n",
        "band7 = dataset.GetRasterBand(7)\n",
        "band7 = band7.ReadAsArray()\n",
        "band7=band7.reshape(44236800, 1)\n",
        "# print(band7.shape, band8.shape, band9.shape)\n",
        "\n",
        "X_train=np.concatenate((band9,band8,band7),axis=1)\n",
        "print(X_train.shape)\n",
        "\n",
        "dataset = gdal.Open(\"/content/drive/MyDrive/Colab Notebooks/Revision/python_train_dnbr.tif\", gdal.GA_ReadOnly)\n",
        "# Read the first band (index starts at 1)\n",
        "band = dataset.GetRasterBand(1)\n",
        "band = band.ReadAsArray()\n",
        "y_train=band.reshape(-1)\n",
        "print(y_train.shape)"
      ],
      "id": "d82ab2d0aa22a52e",
      "outputs": [
        {
          "output_type": "stream",
          "name": "stdout",
          "text": [
            "(44236800, 3)\n",
            "(44236800,)\n"
          ]
        }
      ],
      "execution_count": null
    },
    {
      "metadata": {
        "id": "6fa6edbc37f26669"
      },
      "cell_type": "markdown",
      "source": [
        "# Model training"
      ],
      "id": "6fa6edbc37f26669"
    },
    {
      "cell_type": "code",
      "source": [
        "# Initialize the RF model\n",
        "model1 = RandomForestClassifier(n_estimators=100, max_depth=10)\n",
        "\n",
        "# Train the model\n",
        "classification = model1.fit(X_train.astype(np.float64),y_train.astype(np.float64))"
      ],
      "metadata": {
        "id": "mdaHzMIi7Fkr"
      },
      "id": "mdaHzMIi7Fkr",
      "execution_count": null,
      "outputs": []
    },
    {
      "metadata": {
        "id": "94554424ac23d1f6"
      },
      "cell_type": "markdown",
      "source": [
        "# Import testing data"
      ],
      "id": "94554424ac23d1f6"
    },
    {
      "metadata": {
        "ExecuteTime": {
          "end_time": "2024-07-20T02:42:14.455783Z",
          "start_time": "2024-07-20T02:42:14.270463Z"
        },
        "id": "7f8f3e7dbee7a370",
        "outputId": "7b6cba59-89f1-43f7-ca08-d973490e3c8a",
        "colab": {
          "base_uri": "https://localhost:8080/"
        }
      },
      "cell_type": "code",
      "source": [
        "# Open the TIFF file\n",
        "dataset = gdal.Open(\"/content/drive/MyDrive/Colab Notebooks/Revision/matched_post.tif\", gdal.GA_ReadOnly)\n",
        "\n",
        "# Read the first band (index starts at 1)\n",
        "band9 = dataset.GetRasterBand(9)\n",
        "band9 = band9.ReadAsArray()\n",
        "band9=band9.reshape(2359296, 1)\n",
        "band8 = dataset.GetRasterBand(8)\n",
        "band8 = band8.ReadAsArray()\n",
        "band8=band8.reshape(2359296, 1)\n",
        "band7 = dataset.GetRasterBand(7)\n",
        "band7 = band7.ReadAsArray()\n",
        "band7=band7.reshape(2359296, 1)\n",
        "# print(band7.shape, band8.shape, band9.shape)\n",
        "\n",
        "\n",
        "X_test=np.concatenate((band9,band8,band7),axis=1)\n",
        "print(X_test.shape)\n",
        "\n",
        "dataset = gdal.Open(\"/content/drive/MyDrive/Colab Notebooks/Revision/python_test_dnbr.tif\", gdal.GA_ReadOnly)\n",
        "# Read the first band (index starts at 1)\n",
        "band = dataset.GetRasterBand(1)\n",
        "band = band.ReadAsArray()\n",
        "y_test=band.reshape(-1)\n",
        "print(y_test.shape)"
      ],
      "id": "7f8f3e7dbee7a370",
      "outputs": [
        {
          "output_type": "stream",
          "name": "stdout",
          "text": [
            "(2359296, 3)\n",
            "(2359296,)\n"
          ]
        }
      ],
      "execution_count": null
    },
    {
      "metadata": {
        "id": "a0d89351350e93a8"
      },
      "cell_type": "markdown",
      "source": [
        "# Testing"
      ],
      "id": "a0d89351350e93a8"
    },
    {
      "metadata": {
        "ExecuteTime": {
          "end_time": "2024-07-20T02:41:43.572121Z",
          "start_time": "2024-07-20T02:40:13.120978Z"
        },
        "id": "aab5c7198d288ac1"
      },
      "cell_type": "code",
      "source": [
        "predictions = model1.predict(X_test)"
      ],
      "id": "aab5c7198d288ac1",
      "outputs": [],
      "execution_count": null
    },
    {
      "metadata": {
        "id": "f688d45317727df8",
        "outputId": "7703e7d0-4d06-451e-a7d5-238aa8af3585",
        "colab": {
          "base_uri": "https://localhost:8080/"
        }
      },
      "cell_type": "code",
      "outputs": [
        {
          "output_type": "stream",
          "name": "stdout",
          "text": [
            "RF accracy is 0.7601983812120225\n",
            "[[1631020    1455    5011    2756]\n",
            " [ 286285    4750   48448   11309]\n",
            " [ 119493    1049   55201   22117]\n",
            " [  16340     228   51272  102562]]\n",
            "              precision    recall  f1-score   support\n",
            "\n",
            "           0     0.7944    0.9944    0.8832   1640242\n",
            "           1     0.6349    0.0135    0.0265    350792\n",
            "           2     0.3452    0.2790    0.3086    197860\n",
            "           3     0.7392    0.6019    0.6635    170402\n",
            "\n",
            "    accuracy                         0.7602   2359296\n",
            "   macro avg     0.6284    0.4722    0.4705   2359296\n",
            "weighted avg     0.7290    0.7602    0.6918   2359296\n",
            "\n",
            "Mean IoU =  0.37079537\n",
            "class1 IoU =  0.79085124\n",
            "class2 IoU =  0.013436146\n",
            "class3 IoU =  0.18242776\n",
            "class4 IoU =  0.49646634\n",
            "Kappa: 0.3764713476318242\n"
          ]
        }
      ],
      "execution_count": null,
      "source": [
        "accuracy = metrics.accuracy_score(y_test, predictions)\n",
        "print(\"RF accracy is\", accuracy)\n",
        "cm = metrics.confusion_matrix(y_test, predictions)\n",
        "print(cm)\n",
        "print(classification_report(y_test, predictions, digits=4))\n",
        "\n",
        "IOU_keras = MeanIoU(num_classes=4)\n",
        "IOU_keras.update_state(y_test, predictions)\n",
        "print(\"Mean IoU = \", IOU_keras.result().numpy())\n",
        "values = np.array(IOU_keras.get_weights()).reshape(4, 4)\n",
        "class1_IoU = values[0,0]/(values[0,0] + values[0,1] + values[0,2] + values[0,3] + values[1,0] + values[2,0] + values[3,0])\n",
        "class2_IoU = values[1,1]/(values[1,1] + values[1,0] + values[1,2] + values[1,3] + values[0,1] + values[2,1] + values[3,1])\n",
        "class3_IoU = values[2,2]/(values[2,2] + values[2,0] + values[2,1] + values[2,3] + values[0,2] + values[1,2] + values[3,2])\n",
        "class4_IoU = values[3,3]/(values[3,3] + values[3,0] + values[3,1] + values[3,2] + values[0,3] + values[1,3] + values[2,3])\n",
        "print(\"class1 IoU = \", class1_IoU)\n",
        "print(\"class2 IoU = \", class2_IoU)\n",
        "print(\"class3 IoU = \", class3_IoU)\n",
        "print(\"class4 IoU = \", class4_IoU)\n",
        "\n",
        "from sklearn.metrics import cohen_kappa_score\n",
        "kappa_score = cohen_kappa_score(y_test, predictions)\n",
        "print(\"Kappa:\", kappa_score)"
      ],
      "id": "f688d45317727df8"
    }
  ],
  "metadata": {
    "kernelspec": {
      "display_name": "Python 3",
      "name": "python3"
    },
    "language_info": {
      "codemirror_mode": {
        "name": "ipython",
        "version": 3
      },
      "file_extension": ".py",
      "mimetype": "text/x-python",
      "name": "python",
      "nbconvert_exporter": "python",
      "pygments_lexer": "ipython3",
      "version": "3.10.12"
    },
    "colab": {
      "provenance": [],
      "machine_shape": "hm",
      "gpuType": "T4"
    },
    "accelerator": "GPU"
  },
  "nbformat": 4,
  "nbformat_minor": 5
}