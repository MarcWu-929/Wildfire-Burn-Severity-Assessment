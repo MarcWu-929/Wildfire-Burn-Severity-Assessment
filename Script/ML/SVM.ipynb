{
  "cells": [
    {
      "cell_type": "code",
      "source": [
        "import cuml\n",
        "from cuml.svm import SVC\n",
        "import numpy as np\n",
        "from cuml.svm import LinearSVC"
      ],
      "metadata": {
        "id": "-FnnUWfR4F8N"
      },
      "id": "-FnnUWfR4F8N",
      "execution_count": 9,
      "outputs": []
    },
    {
      "cell_type": "code",
      "id": "e32d943b",
      "metadata": {
        "ExecuteTime": {
          "end_time": "2024-07-20T05:46:15.694115Z",
          "start_time": "2024-07-20T05:46:08.427802Z"
        },
        "id": "e32d943b"
      },
      "source": [
        "from osgeo import gdal\n",
        "import pandas as pd\n",
        "import numpy as np\n",
        "from sklearn.ensemble import RandomForestClassifier\n",
        "import geopandas as gpd\n",
        "import numpy as np\n",
        "from sklearn import metrics\n",
        "import os\n",
        "import matplotlib.pylab as plt\n",
        "from sklearn.model_selection import (\n",
        "    TimeSeriesSplit,\n",
        "    KFold,\n",
        "    ShuffleSplit,\n",
        "    StratifiedKFold,\n",
        "    GroupShuffleSplit,\n",
        "    GroupKFold,\n",
        "    StratifiedShuffleSplit,\n",
        "    StratifiedGroupKFold,\n",
        ")\n",
        "from mpl_toolkits import mplot3d\n",
        "from sklearn.model_selection import cross_val_score, cross_val_predict\n",
        "from sklearn.metrics import classification_report\n",
        "from keras.metrics import MeanIoU\n",
        "import joblib\n",
        "from sklearn.model_selection import train_test_split\n",
        "from scipy.stats import mode"
      ],
      "outputs": [],
      "execution_count": 4
    },
    {
      "cell_type": "code",
      "source": [
        "from google.colab import drive\n",
        "drive.mount('/content/drive')"
      ],
      "metadata": {
        "colab": {
          "base_uri": "https://localhost:8080/"
        },
        "id": "kuw-i7y-4j39",
        "outputId": "72e540b1-b3ba-4fee-a867-d496a6d67a74"
      },
      "id": "kuw-i7y-4j39",
      "execution_count": 5,
      "outputs": [
        {
          "output_type": "stream",
          "name": "stdout",
          "text": [
            "Mounted at /content/drive\n"
          ]
        }
      ]
    },
    {
      "metadata": {
        "id": "716d3f45a9b57f06"
      },
      "cell_type": "markdown",
      "source": [
        "# SVM"
      ],
      "id": "716d3f45a9b57f06"
    },
    {
      "metadata": {
        "id": "c5e32672cb0ce944"
      },
      "cell_type": "markdown",
      "source": [
        "# Import training data"
      ],
      "id": "c5e32672cb0ce944"
    },
    {
      "metadata": {
        "ExecuteTime": {
          "end_time": "2024-07-20T05:46:22.507389Z",
          "start_time": "2024-07-20T05:46:21.282235Z"
        },
        "colab": {
          "base_uri": "https://localhost:8080/"
        },
        "id": "d82ab2d0aa22a52e",
        "outputId": "9921ad23-f7a5-44ab-f894-8a4ae77b9bd2"
      },
      "cell_type": "code",
      "source": [
        "# Open the TIFF file\n",
        "dataset = gdal.Open(\"/content/drive/MyDrive/Colab Notebooks/Revision/clipped_post.tif\", gdal.GA_ReadOnly)\n",
        "\n",
        "# Read the first band (index starts at 1)\n",
        "band9 = dataset.GetRasterBand(9)\n",
        "band9 = band9.ReadAsArray()\n",
        "# train = gpd.read_file(r\"C:\\Document\\University\\2023_Spring_Junior\\GEOG_491\\Dataset\\August_Complex\\Raw_testing\\Post\\matched_post.tif\")\n",
        "band9=band9.reshape(44236800, 1)\n",
        "band8 = dataset.GetRasterBand(8)\n",
        "band8 = band8.ReadAsArray()\n",
        "band8=band8.reshape(44236800, 1)\n",
        "band7 = dataset.GetRasterBand(7)\n",
        "band7 = band7.ReadAsArray()\n",
        "band7=band7.reshape(44236800, 1)\n",
        "# print(band7.shape, band8.shape, band9.shape)\n",
        "\n",
        "X_train=np.concatenate((band9,band8,band7),axis=1)\n",
        "print(X_train.shape)\n",
        "\n",
        "dataset = gdal.Open(\"/content/drive/MyDrive/Colab Notebooks/Revision/python_train_dnbr.tif\", gdal.GA_ReadOnly)\n",
        "# Read the first band (index starts at 1)\n",
        "band = dataset.GetRasterBand(1)\n",
        "band = band.ReadAsArray()\n",
        "y_train=band.reshape(-1)\n",
        "print(y_train.shape)"
      ],
      "id": "d82ab2d0aa22a52e",
      "outputs": [
        {
          "output_type": "stream",
          "name": "stdout",
          "text": [
            "(44236800, 3)\n",
            "(44236800,)\n"
          ]
        }
      ],
      "execution_count": 6
    },
    {
      "metadata": {
        "id": "6fa6edbc37f26669"
      },
      "cell_type": "markdown",
      "source": [
        "# Model training"
      ],
      "id": "6fa6edbc37f26669"
    },
    {
      "cell_type": "code",
      "source": [
        "# Initialize the SVM model\n",
        "model1 = LinearSVC()\n",
        "\n",
        "# Train the model\n",
        "classification = model1.fit(X_train.astype(np.float64),y_train.astype(np.float64))"
      ],
      "metadata": {
        "id": "mdaHzMIi7Fkr"
      },
      "id": "mdaHzMIi7Fkr",
      "execution_count": 10,
      "outputs": []
    },
    {
      "metadata": {
        "id": "94554424ac23d1f6"
      },
      "cell_type": "markdown",
      "source": [
        "# Import testing data"
      ],
      "id": "94554424ac23d1f6"
    },
    {
      "metadata": {
        "ExecuteTime": {
          "end_time": "2024-07-20T02:42:14.455783Z",
          "start_time": "2024-07-20T02:42:14.270463Z"
        },
        "id": "7f8f3e7dbee7a370",
        "outputId": "9c3caabb-1385-4e3b-c64b-af4d524a793f",
        "colab": {
          "base_uri": "https://localhost:8080/"
        }
      },
      "cell_type": "code",
      "source": [
        "# Open the TIFF file\n",
        "dataset = gdal.Open(\"/content/drive/MyDrive/Colab Notebooks/Revision/matched_post.tif\", gdal.GA_ReadOnly)\n",
        "\n",
        "# Read the first band (index starts at 1)\n",
        "band9 = dataset.GetRasterBand(9)\n",
        "band9 = band9.ReadAsArray()\n",
        "band9=band9.reshape(2359296, 1)\n",
        "band8 = dataset.GetRasterBand(8)\n",
        "band8 = band8.ReadAsArray()\n",
        "band8=band8.reshape(2359296, 1)\n",
        "band7 = dataset.GetRasterBand(7)\n",
        "band7 = band7.ReadAsArray()\n",
        "band7=band7.reshape(2359296, 1)\n",
        "# print(band7.shape, band8.shape, band9.shape)\n",
        "\n",
        "X_test=np.concatenate((band9,band8,band7),axis=1)\n",
        "print(X_test.shape)\n",
        "\n",
        "dataset = gdal.Open(\"/content/drive/MyDrive/Colab Notebooks/Revision/python_test_dnbr.tif\", gdal.GA_ReadOnly)\n",
        "# Read the first band (index starts at 1)\n",
        "band = dataset.GetRasterBand(1)\n",
        "band = band.ReadAsArray()\n",
        "y_test=band.reshape(-1)\n",
        "print(y_test.shape)"
      ],
      "id": "7f8f3e7dbee7a370",
      "outputs": [
        {
          "output_type": "stream",
          "name": "stdout",
          "text": [
            "(2359296, 3)\n",
            "(2359296,)\n"
          ]
        }
      ],
      "execution_count": 11
    },
    {
      "metadata": {
        "id": "a0d89351350e93a8"
      },
      "cell_type": "markdown",
      "source": [
        "# Testing"
      ],
      "id": "a0d89351350e93a8"
    },
    {
      "metadata": {
        "ExecuteTime": {
          "end_time": "2024-07-20T02:41:43.572121Z",
          "start_time": "2024-07-20T02:40:13.120978Z"
        },
        "id": "aab5c7198d288ac1"
      },
      "cell_type": "code",
      "source": [
        "predictions = model1.predict(X_test)"
      ],
      "id": "aab5c7198d288ac1",
      "outputs": [],
      "execution_count": 12
    },
    {
      "metadata": {
        "id": "f688d45317727df8",
        "outputId": "d47b2465-1f41-458c-8d37-944b09907179",
        "colab": {
          "base_uri": "https://localhost:8080/"
        }
      },
      "cell_type": "code",
      "outputs": [
        {
          "output_type": "stream",
          "name": "stdout",
          "text": [
            "SVM accracy is 0.7519904242621528\n",
            "[[1633841       0    1068    5333]\n",
            " [ 312298       0    7970   30524]\n",
            " [ 142197       0    4086   51577]\n",
            " [  32153       0    2008  136241]]\n"
          ]
        },
        {
          "output_type": "stream",
          "name": "stderr",
          "text": [
            "/usr/local/lib/python3.10/dist-packages/sklearn/metrics/_classification.py:1344: UndefinedMetricWarning: Precision and F-score are ill-defined and being set to 0.0 in labels with no predicted samples. Use `zero_division` parameter to control this behavior.\n",
            "  _warn_prf(average, modifier, msg_start, len(result))\n",
            "/usr/local/lib/python3.10/dist-packages/sklearn/metrics/_classification.py:1344: UndefinedMetricWarning: Precision and F-score are ill-defined and being set to 0.0 in labels with no predicted samples. Use `zero_division` parameter to control this behavior.\n",
            "  _warn_prf(average, modifier, msg_start, len(result))\n",
            "/usr/local/lib/python3.10/dist-packages/sklearn/metrics/_classification.py:1344: UndefinedMetricWarning: Precision and F-score are ill-defined and being set to 0.0 in labels with no predicted samples. Use `zero_division` parameter to control this behavior.\n",
            "  _warn_prf(average, modifier, msg_start, len(result))\n"
          ]
        },
        {
          "output_type": "stream",
          "name": "stdout",
          "text": [
            "              precision    recall  f1-score   support\n",
            "\n",
            "           0     0.7705    0.9961    0.8689   1640242\n",
            "           1     0.0000    0.0000    0.0000    350792\n",
            "           2     0.2700    0.0207    0.0384    197860\n",
            "           3     0.6091    0.7995    0.6914    170402\n",
            "\n",
            "    accuracy                         0.7520   2359296\n",
            "   macro avg     0.4124    0.4541    0.3997   2359296\n",
            "weighted avg     0.6023    0.7520    0.6572   2359296\n",
            "\n",
            "Mean IoU =  0.329036\n",
            "class1 IoU =  0.7681831\n",
            "class2 IoU =  0.0\n",
            "class3 IoU =  0.019559037\n",
            "class4 IoU =  0.5284018\n",
            "Kappa: 0.3256209770743177\n"
          ]
        }
      ],
      "execution_count": 13,
      "source": [
        "accuracy = metrics.accuracy_score(y_test, predictions)\n",
        "print(\"SVM accracy is\", accuracy)\n",
        "cm = metrics.confusion_matrix(y_test, predictions)\n",
        "print(cm)\n",
        "print(classification_report(y_test, predictions, digits=4))\n",
        "\n",
        "IOU_keras = MeanIoU(num_classes=4)\n",
        "IOU_keras.update_state(y_test, predictions)\n",
        "print(\"Mean IoU = \", IOU_keras.result().numpy())\n",
        "values = np.array(IOU_keras.get_weights()).reshape(4, 4)\n",
        "class1_IoU = values[0,0]/(values[0,0] + values[0,1] + values[0,2] + values[0,3] + values[1,0] + values[2,0] + values[3,0])\n",
        "class2_IoU = values[1,1]/(values[1,1] + values[1,0] + values[1,2] + values[1,3] + values[0,1] + values[2,1] + values[3,1])\n",
        "class3_IoU = values[2,2]/(values[2,2] + values[2,0] + values[2,1] + values[2,3] + values[0,2] + values[1,2] + values[3,2])\n",
        "class4_IoU = values[3,3]/(values[3,3] + values[3,0] + values[3,1] + values[3,2] + values[0,3] + values[1,3] + values[2,3])\n",
        "print(\"class1 IoU = \", class1_IoU)\n",
        "print(\"class2 IoU = \", class2_IoU)\n",
        "print(\"class3 IoU = \", class3_IoU)\n",
        "print(\"class4 IoU = \", class4_IoU)\n",
        "\n",
        "from sklearn.metrics import cohen_kappa_score\n",
        "kappa_score = cohen_kappa_score(y_test, predictions)\n",
        "print(\"Kappa:\", kappa_score)"
      ],
      "id": "f688d45317727df8"
    }
  ],
  "metadata": {
    "kernelspec": {
      "display_name": "Python 3",
      "name": "python3"
    },
    "language_info": {
      "codemirror_mode": {
        "name": "ipython",
        "version": 3
      },
      "file_extension": ".py",
      "mimetype": "text/x-python",
      "name": "python",
      "nbconvert_exporter": "python",
      "pygments_lexer": "ipython3",
      "version": "3.10.12"
    },
    "colab": {
      "provenance": [],
      "machine_shape": "hm",
      "gpuType": "T4"
    },
    "accelerator": "GPU"
  },
  "nbformat": 4,
  "nbformat_minor": 5
}