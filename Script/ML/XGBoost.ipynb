{
  "cells": [
    {
      "cell_type": "code",
      "id": "e32d943b",
      "metadata": {
        "ExecuteTime": {
          "end_time": "2024-07-20T05:46:15.694115Z",
          "start_time": "2024-07-20T05:46:08.427802Z"
        },
        "id": "e32d943b"
      },
      "source": [
        "from osgeo import gdal\n",
        "import pandas as pd\n",
        "import numpy as np\n",
        "from sklearn.ensemble import RandomForestClassifier\n",
        "import geopandas as gpd\n",
        "import numpy as np\n",
        "from sklearn import metrics\n",
        "import os\n",
        "import matplotlib.pylab as plt\n",
        "from sklearn.model_selection import (\n",
        "    TimeSeriesSplit,\n",
        "    KFold,\n",
        "    ShuffleSplit,\n",
        "    StratifiedKFold,\n",
        "    GroupShuffleSplit,\n",
        "    GroupKFold,\n",
        "    StratifiedShuffleSplit,\n",
        "    StratifiedGroupKFold,\n",
        ")\n",
        "from mpl_toolkits import mplot3d\n",
        "from sklearn.model_selection import cross_val_score, cross_val_predict\n",
        "from sklearn.metrics import classification_report\n",
        "from keras.metrics import MeanIoU\n",
        "import joblib\n",
        "from sklearn.model_selection import train_test_split\n",
        "from scipy.stats import mode"
      ],
      "outputs": [],
      "execution_count": null
    },
    {
      "cell_type": "code",
      "source": [
        "from google.colab import drive\n",
        "drive.mount('/content/drive')"
      ],
      "metadata": {
        "colab": {
          "base_uri": "https://localhost:8080/"
        },
        "id": "kuw-i7y-4j39",
        "outputId": "e93c36b2-9bdf-472b-b43a-a02ce1bbec91"
      },
      "id": "kuw-i7y-4j39",
      "execution_count": null,
      "outputs": [
        {
          "output_type": "stream",
          "name": "stdout",
          "text": [
            "Mounted at /content/drive\n"
          ]
        }
      ]
    },
    {
      "metadata": {
        "id": "716d3f45a9b57f06"
      },
      "cell_type": "markdown",
      "source": [
        "# XGBoost"
      ],
      "id": "716d3f45a9b57f06"
    },
    {
      "metadata": {
        "id": "c5e32672cb0ce944"
      },
      "cell_type": "markdown",
      "source": [
        "# Import training data"
      ],
      "id": "c5e32672cb0ce944"
    },
    {
      "metadata": {
        "ExecuteTime": {
          "end_time": "2024-07-20T05:46:22.507389Z",
          "start_time": "2024-07-20T05:46:21.282235Z"
        },
        "colab": {
          "base_uri": "https://localhost:8080/"
        },
        "id": "d82ab2d0aa22a52e",
        "outputId": "0470c90c-7e51-4305-d184-6d252cb18424"
      },
      "cell_type": "code",
      "source": [
        "# Open the TIFF file\n",
        "dataset = gdal.Open(\"/content/drive/MyDrive/Colab Notebooks/Revision/clipped_post.tif\", gdal.GA_ReadOnly)\n",
        "\n",
        "# Read the first band (index starts at 1)\n",
        "band9 = dataset.GetRasterBand(9)\n",
        "band9 = band9.ReadAsArray()\n",
        "# train = gpd.read_file(r\"C:\\Document\\University\\2023_Spring_Junior\\GEOG_491\\Dataset\\August_Complex\\Raw_testing\\Post\\matched_post.tif\")\n",
        "band9=band9.reshape(44236800, 1)\n",
        "band8 = dataset.GetRasterBand(8)\n",
        "band8 = band8.ReadAsArray()\n",
        "band8=band8.reshape(44236800, 1)\n",
        "band7 = dataset.GetRasterBand(7)\n",
        "band7 = band7.ReadAsArray()\n",
        "band7=band7.reshape(44236800, 1)\n",
        "# print(band7.shape, band8.shape, band9.shape)\n",
        "\n",
        "X_train=np.concatenate((band9,band8,band7),axis=1)\n",
        "print(X_train.shape)\n",
        "\n",
        "dataset = gdal.Open(\"/content/drive/MyDrive/Colab Notebooks/Revision/python_train_dnbr.tif\", gdal.GA_ReadOnly)\n",
        "# Read the first band (index starts at 1)\n",
        "band = dataset.GetRasterBand(1)\n",
        "band = band.ReadAsArray()\n",
        "y_train=band.reshape(-1)\n",
        "print(y_train.shape)"
      ],
      "id": "d82ab2d0aa22a52e",
      "outputs": [
        {
          "output_type": "stream",
          "name": "stdout",
          "text": [
            "(44236800, 3)\n",
            "(44236800,)\n"
          ]
        }
      ],
      "execution_count": null
    },
    {
      "metadata": {
        "id": "6fa6edbc37f26669"
      },
      "cell_type": "markdown",
      "source": [
        "# Model training"
      ],
      "id": "6fa6edbc37f26669"
    },
    {
      "metadata": {
        "ExecuteTime": {
          "end_time": "2024-07-20T06:35:22.598324Z",
          "start_time": "2024-07-20T05:47:51.458418Z"
        },
        "id": "198e87d1c5e99650"
      },
      "cell_type": "code",
      "source": [
        "import xgboost as xgb\n",
        "bst = xgb.XGBClassifier(objective='multi:softmax', num_class=4)\n",
        "# fit model\n",
        "model1 = bst.fit(X_train, y_train.astype(int))\n",
        "classification = model1.fit(X_train,y_train)\n",
        "# joblib.dump(model1, r'C:\\Document\\University\\2023_Spring_Junior\\GEOG_491\\Dataset\\August_Complex\\Deep_learning\\models\\machine_learning\\10\\xgboost_model_part1.joblib')"
      ],
      "id": "198e87d1c5e99650",
      "outputs": [],
      "execution_count": null
    },
    {
      "metadata": {
        "id": "94554424ac23d1f6"
      },
      "cell_type": "markdown",
      "source": [
        "# Import testing data"
      ],
      "id": "94554424ac23d1f6"
    },
    {
      "metadata": {
        "ExecuteTime": {
          "end_time": "2024-07-20T02:42:14.455783Z",
          "start_time": "2024-07-20T02:42:14.270463Z"
        },
        "id": "7f8f3e7dbee7a370",
        "outputId": "8b09e3a6-423b-46eb-d490-c54a05f4ee6f",
        "colab": {
          "base_uri": "https://localhost:8080/"
        }
      },
      "cell_type": "code",
      "source": [
        "# Open the TIFF file\n",
        "dataset = gdal.Open(\"/content/drive/MyDrive/Colab Notebooks/Revision/matched_post.tif\", gdal.GA_ReadOnly)\n",
        "\n",
        "# Read the first band (index starts at 1)\n",
        "band9 = dataset.GetRasterBand(9)\n",
        "band9 = band9.ReadAsArray()\n",
        "band9=band9.reshape(2359296, 1)\n",
        "band8 = dataset.GetRasterBand(8)\n",
        "band8 = band8.ReadAsArray()\n",
        "band8=band8.reshape(2359296, 1)\n",
        "band7 = dataset.GetRasterBand(7)\n",
        "band7 = band7.ReadAsArray()\n",
        "band7=band7.reshape(2359296, 1)\n",
        "# print(band7.shape, band8.shape, band9.shape)\n",
        "\n",
        "X_test=np.concatenate((band9,band8,band7),axis=1)\n",
        "print(X_test.shape)\n",
        "\n",
        "dataset = gdal.Open(\"/content/drive/MyDrive/Colab Notebooks/Revision/python_test_dnbr.tif\", gdal.GA_ReadOnly)\n",
        "# Read the first band (index starts at 1)\n",
        "band = dataset.GetRasterBand(1)\n",
        "band = band.ReadAsArray()\n",
        "y_test=band.reshape(-1)\n",
        "print(y_test.shape)"
      ],
      "id": "7f8f3e7dbee7a370",
      "outputs": [
        {
          "output_type": "stream",
          "name": "stdout",
          "text": [
            "(2359296, 3)\n",
            "(2359296,)\n"
          ]
        }
      ],
      "execution_count": null
    },
    {
      "metadata": {
        "id": "a0d89351350e93a8"
      },
      "cell_type": "markdown",
      "source": [
        "# Testing"
      ],
      "id": "a0d89351350e93a8"
    },
    {
      "metadata": {
        "ExecuteTime": {
          "end_time": "2024-07-20T02:41:43.572121Z",
          "start_time": "2024-07-20T02:40:13.120978Z"
        },
        "id": "aab5c7198d288ac1"
      },
      "cell_type": "code",
      "source": [
        "predictions = model1.predict(X_test)"
      ],
      "id": "aab5c7198d288ac1",
      "outputs": [],
      "execution_count": null
    },
    {
      "metadata": {
        "id": "f688d45317727df8",
        "outputId": "6a73ec38-00f8-4584-c215-80c34ecd406d",
        "colab": {
          "base_uri": "https://localhost:8080/"
        }
      },
      "cell_type": "code",
      "outputs": [
        {
          "output_type": "stream",
          "name": "stdout",
          "text": [
            "XGBoost accracy is 0.7473500569661459\n",
            "[[1565159   63034    9220    2829]\n",
            " [ 260529   42167   35915   12181]\n",
            " [ 117946   10220   43955   25739]\n",
            " [  23445     909   34109  111939]]\n",
            "              precision    recall  f1-score   support\n",
            "\n",
            "           0     0.7957    0.9542    0.8678   1640242\n",
            "           1     0.3625    0.1202    0.1805    350792\n",
            "           2     0.3568    0.2222    0.2738    197860\n",
            "           3     0.7331    0.6569    0.6929    170402\n",
            "\n",
            "    accuracy                         0.7474   2359296\n",
            "   macro avg     0.5620    0.4884    0.5038   2359296\n",
            "weighted avg     0.6899    0.7474    0.7031   2359296\n",
            "\n",
            "Mean IoU =  0.38860238\n",
            "class1 IoU =  0.76642257\n",
            "class2 IoU =  0.099226974\n",
            "class3 IoU =  0.15862276\n",
            "class4 IoU =  0.5301372\n",
            "Kappa: 0.37457705116232665\n"
          ]
        }
      ],
      "execution_count": null,
      "source": [
        "accuracy = metrics.accuracy_score(y_test, predictions)\n",
        "print(\"XGBoost accracy is\", accuracy)\n",
        "cm = metrics.confusion_matrix(y_test, predictions)\n",
        "print(cm)\n",
        "print(classification_report(y_test, predictions, digits=4))\n",
        "\n",
        "IOU_keras = MeanIoU(num_classes=4)\n",
        "IOU_keras.update_state(y_test, predictions)\n",
        "print(\"Mean IoU = \", IOU_keras.result().numpy())\n",
        "values = np.array(IOU_keras.get_weights()).reshape(4, 4)\n",
        "class1_IoU = values[0,0]/(values[0,0] + values[0,1] + values[0,2] + values[0,3] + values[1,0] + values[2,0] + values[3,0])\n",
        "class2_IoU = values[1,1]/(values[1,1] + values[1,0] + values[1,2] + values[1,3] + values[0,1] + values[2,1] + values[3,1])\n",
        "class3_IoU = values[2,2]/(values[2,2] + values[2,0] + values[2,1] + values[2,3] + values[0,2] + values[1,2] + values[3,2])\n",
        "class4_IoU = values[3,3]/(values[3,3] + values[3,0] + values[3,1] + values[3,2] + values[0,3] + values[1,3] + values[2,3])\n",
        "print(\"class1 IoU = \", class1_IoU)\n",
        "print(\"class2 IoU = \", class2_IoU)\n",
        "print(\"class3 IoU = \", class3_IoU)\n",
        "print(\"class4 IoU = \", class4_IoU)\n",
        "\n",
        "from sklearn.metrics import cohen_kappa_score\n",
        "kappa_score = cohen_kappa_score(y_test, predictions)\n",
        "print(\"Kappa:\", kappa_score)"
      ],
      "id": "f688d45317727df8"
    }
  ],
  "metadata": {
    "kernelspec": {
      "display_name": "Python 3",
      "name": "python3"
    },
    "language_info": {
      "codemirror_mode": {
        "name": "ipython",
        "version": 3
      },
      "file_extension": ".py",
      "mimetype": "text/x-python",
      "name": "python",
      "nbconvert_exporter": "python",
      "pygments_lexer": "ipython3",
      "version": "3.10.12"
    },
    "colab": {
      "provenance": [],
      "machine_shape": "hm",
      "gpuType": "A100"
    },
    "accelerator": "GPU"
  },
  "nbformat": 4,
  "nbformat_minor": 5
}