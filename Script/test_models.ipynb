{
 "cells": [
  {
   "cell_type": "code",
   "execution_count": 1,
   "id": "30530934",
   "metadata": {
    "ExecuteTime": {
     "end_time": "2023-10-09T06:05:35.520469300Z",
     "start_time": "2023-10-09T06:05:28.667510300Z"
    }
   },
   "outputs": [],
   "source": [
    "import os\n",
    "import glob\n",
    "import numpy as np\n",
    "from matplotlib import pyplot as plt\n",
    "from osgeo import gdal\n",
    "import pandas as pd\n",
    "from keras.utils import to_categorical\n",
    "import tensorflow as tf\n",
    "from sklearn.utils import class_weight\n",
    "import random\n",
    "from keras import backend as K"
   ]
  },
  {
   "cell_type": "markdown",
   "id": "172415c8",
   "metadata": {},
   "source": [
    "Import model"
   ]
  },
  {
   "cell_type": "code",
   "execution_count": 2,
   "id": "dae3d2eb",
   "metadata": {
    "ExecuteTime": {
     "end_time": "2023-10-09T06:05:42.232757200Z",
     "start_time": "2023-10-09T06:05:37.800265900Z"
    }
   },
   "outputs": [],
   "source": [
    "# import keras\n",
    "from tensorflow.keras.models import load_model\n",
    "\n",
    "# Specify the path to the saved model file\n",
    "model_path = r\"C:\\Document\\University\\2023_Spring_Junior\\GEOG_491\\Dataset\\August_Complex\\Deep_learning\\models_new\\ra_unet_nbr_2.h5\"\n",
    "\n",
    "# Load the model\n",
    "model = load_model(model_path, compile=False)"
   ]
  },
  {
   "cell_type": "markdown",
   "id": "6443033f",
   "metadata": {},
   "source": [
    "Test #1"
   ]
  },
  {
   "cell_type": "code",
   "execution_count": 3,
   "id": "aabae5bf",
   "metadata": {
    "ExecuteTime": {
     "end_time": "2023-10-09T06:05:54.310841500Z",
     "start_time": "2023-10-09T06:05:53.551587500Z"
    }
   },
   "outputs": [
    {
     "name": "stderr",
     "output_type": "stream",
     "text": [
      "C:\\Users\\wumin\\anaconda3\\envs\\deep_learning\\lib\\site-packages\\osgeo\\gdal.py:287: FutureWarning: Neither gdal.UseExceptions() nor gdal.DontUseExceptions() has been explicitly called. In GDAL 4.0, exceptions will be enabled by default.\n",
      "  warnings.warn(\n"
     ]
    },
    {
     "name": "stdout",
     "output_type": "stream",
     "text": [
      "1314.3571367617008\n",
      "(36, 256, 256, 3)\n",
      "[0 1 2 3]\n",
      "(36, 256, 256, 4)\n",
      "[0 1]\n",
      "1314.3589101720738\n",
      "(36, 256, 256, 3)\n",
      "3.1644802\n"
     ]
    }
   ],
   "source": [
    "test_images = []\n",
    "image_names = glob.glob(r\"C:\\Document\\University\\2023_Spring_Junior\\GEOG_491\\Dataset\\August_Complex\\Deep_learning\\256\\testing_image\\images/*.tif\")\n",
    "image_names.sort()\n",
    "for img_path in image_names:\n",
    "      # print(img_path)\n",
    "    tiff_image = gdal.Open(img_path, 0)\n",
    "    band7 = tiff_image.GetRasterBand(7).ReadAsArray()\n",
    "    band8 = tiff_image.GetRasterBand(8).ReadAsArray()\n",
    "    band9 = tiff_image.GetRasterBand(9).ReadAsArray()\n",
    "\n",
    "    X = np.stack((band9, band8, band7), axis=-1)\n",
    "    \n",
    "    test_images.append(X)\n",
    "\n",
    "test_images = np.array(test_images)\n",
    "print(np.mean(test_images))\n",
    "# normalize\n",
    "# test_images = test_images / (2**16-1)\n",
    "# test_images = test_images.astype(int)\n",
    "\n",
    "# low, high = np.percentile(X, (2, 98))\n",
    "# test_images = (test_images-low)/(high-low)\n",
    "print(test_images.shape)\n",
    "\n",
    "test_masks = []\n",
    "image_names = glob.glob(r\"C:\\Document\\University\\2023_Spring_Junior\\GEOG_491\\Dataset\\August_Complex\\Deep_learning\\mask\\ps\\multi\\truth_2\\test\\images/*.tif\")\n",
    "#\"/content/drive/MyDrive/Colab Notebooks/Deep_learning/256/ps/test_threshold_3/images/*.tif\"\n",
    "image_names.sort()\n",
    "for img_path in image_names:\n",
    "  #  print(img_path)\n",
    "    tiff_image = gdal.Open(img_path, 0)\n",
    "    band1 = tiff_image.GetRasterBand(1).ReadAsArray()\n",
    "    test_masks.append(band1)\n",
    "\n",
    "test_masks = np.array(test_masks)\n",
    "# test_masks = test_masks\n",
    "# masks = train_masks.astype(int)\n",
    "print(np.unique(test_masks))\n",
    "\n",
    "y_test_cat = to_categorical(test_masks, num_classes=4)\n",
    "y_test_cat = y_test_cat.astype(int)\n",
    "print(y_test_cat.shape)\n",
    "print(np.unique(y_test_cat))\n",
    "\n",
    "test_images_pre = []\n",
    "image_names = glob.glob(r\"C:\\Document\\University\\2023_Spring_Junior\\GEOG_491\\Dataset\\August_Complex\\Deep_learning\\256\\pre\\testing\\images/*.tif\")\n",
    "image_names.sort()\n",
    "for img_path in image_names:\n",
    "    # print(img_path)\n",
    "    tiff_image = gdal.Open(img_path, 0)\n",
    "    band7 = tiff_image.GetRasterBand(7).ReadAsArray()\n",
    "    band8 = tiff_image.GetRasterBand(8).ReadAsArray()\n",
    "    band9 = tiff_image.GetRasterBand(9).ReadAsArray()\n",
    "\n",
    "    X = np.stack((band9, band8, band7), axis=-1)\n",
    "    test_images_pre.append(X)\n",
    "\n",
    "test_images_pre = np.array(test_images_pre)\n",
    "print(np.mean(test_images_pre))\n",
    "# normalize\n",
    "# test_images_pre = test_images / (2**16-1)\n",
    "# test_images_pre = test_images_pre.astype(int)\n",
    "\n",
    "# low, high = np.percentile(X, (2, 98))\n",
    "# test_images_pre = (test_images_pre)/(high-low)\n",
    "print(test_images_pre.shape)\n",
    "\n",
    "test_images_nbr = []\n",
    "image_names = glob.glob(r\"C:\\Document\\University\\2023_Spring_Junior\\GEOG_491\\Dataset\\August_Complex\\Deep_learning\\mask\\ps\\NBR\\test\\images/*.tif\")\n",
    "image_names.sort()\n",
    "for img_path in image_names:\n",
    "    # print(img_path)\n",
    "    tiff_image = gdal.Open(img_path, 0)\n",
    "    band1 = tiff_image.GetRasterBand(1).ReadAsArray()\n",
    "    band2 = tiff_image.GetRasterBand(2).ReadAsArray()\n",
    "    band3 = tiff_image.GetRasterBand(3).ReadAsArray()\n",
    "\n",
    "    X = np.stack((band1, band2, band3), axis=-1)\n",
    "    test_images_nbr.append(X)\n",
    "\n",
    "test_images_nbr = np.array(test_images_nbr)\n",
    "\n",
    "# test_images_nbr = test_images_nbr / (2**16-1)\n",
    "# test_images_nbr = test_images_nbr / np.max(test_images_nbr)\n",
    "test_images_nbr = np.where(test_images_nbr < 0, 0, test_images_nbr)\n",
    "print(np.mean(test_images_nbr))"
   ]
  },
  {
   "cell_type": "code",
   "execution_count": 4,
   "id": "03509cf2",
   "metadata": {
    "ExecuteTime": {
     "end_time": "2023-10-09T06:06:05.558682800Z",
     "start_time": "2023-10-09T06:06:05.543001100Z"
    }
   },
   "outputs": [],
   "source": [
    "test_list = [test_images, test_images_pre, test_images_nbr]\n",
    "# test_list = [test_images, test_images_pre]\n",
    "# test_list = [test_images]"
   ]
  },
  {
   "cell_type": "code",
   "execution_count": 14,
   "id": "061aa4e6",
   "metadata": {
    "ExecuteTime": {
     "end_time": "2023-10-09T06:17:17.122931500Z",
     "start_time": "2023-10-09T06:17:13.948497400Z"
    }
   },
   "outputs": [
    {
     "name": "stdout",
     "output_type": "stream",
     "text": [
      "2/2 [==============================] - 1s 731ms/step\n",
      "(36, 256, 256, 4)\n",
      "(36, 256, 256)\n",
      "[[1583392   54956    1352     542]\n",
      " [  19004  258637   70882    2269]\n",
      " [   1222   10622  164047   21969]\n",
      " [     96      32   14389  155885]] \n",
      "              precision    recall  f1-score   support\n",
      "\n",
      "           0     0.9873    0.9653    0.9762   1640242\n",
      "           1     0.7977    0.7373    0.7663    350792\n",
      "           2     0.6544    0.8291    0.7315    197860\n",
      "           3     0.8628    0.9148    0.8881    170402\n",
      "\n",
      "    accuracy                         0.9164   2359296\n",
      "   macro avg     0.8256    0.8616    0.8405   2359296\n",
      "weighted avg     0.9222    0.9164    0.9181   2359296\n",
      "\n",
      "Mean IoU =  0.7374911\n",
      "class1 IoU =  0.9535266\n",
      "class2 IoU =  0.6211233\n",
      "class3 IoU =  0.57664955\n",
      "class4 IoU =  0.7986648\n",
      "\n",
      " Accuracy =  0.91635853\n",
      "Kappa: 0.8301869567086886\n"
     ]
    }
   ],
   "source": [
    "from sklearn.metrics import classification_report\n",
    "from sklearn import metrics\n",
    "import tensorflow as tf\n",
    "predicted = np.expand_dims(test_images, 0)\n",
    "prediction = (model.predict(test_list))\n",
    "print(prediction.shape)\n",
    "predicted_img = np.argmax(prediction, axis=3)[:,:,:]\n",
    "y_test_pred = test_masks\n",
    "# print(y_test.shape)\n",
    "print(predicted_img.shape)\n",
    "cm = metrics.confusion_matrix(y_test_pred.reshape(-1), predicted_img.reshape(-1))\n",
    "print(cm, \"\\n\")\n",
    "print(classification_report(y_test_pred.reshape(-1), predicted_img.reshape(-1), digits=4))\n",
    "\n",
    "from keras.metrics import MeanIoU\n",
    "IOU_keras = MeanIoU(num_classes=4)\n",
    "IOU_keras.update_state(y_test_pred.reshape(-1), predicted_img.reshape(-1))\n",
    "print(\"Mean IoU = \", IOU_keras.result().numpy())\n",
    "values = np.array(IOU_keras.get_weights()).reshape(4, 4)\n",
    "class1_IoU = values[0,0]/(values[0,0] + values[0,1] + values[0,2] + values[0,3] + values[1,0] + values[2,0] + values[3,0])\n",
    "class2_IoU = values[1,1]/(values[1,1] + values[1,0] + values[1,2] + values[1,3] + values[0,1] + values[2,1] + values[3,1])\n",
    "class3_IoU = values[2,2]/(values[2,2] + values[2,0] + values[2,1] + values[2,3] + values[0,2] + values[1,2] + values[3,2])\n",
    "class4_IoU = values[3,3]/(values[3,3] + values[3,0] + values[3,1] + values[3,2] + values[0,3] + values[1,3] + values[2,3])\n",
    "print(\"class1 IoU = \", class1_IoU)\n",
    "print(\"class2 IoU = \", class2_IoU)\n",
    "print(\"class3 IoU = \", class3_IoU)\n",
    "print(\"class4 IoU = \", class4_IoU)\n",
    "\n",
    "m = tf.keras.metrics.Accuracy()\n",
    "m.update_state(y_test_pred.reshape(-1), predicted_img.reshape(-1))\n",
    "print('\\n', 'Accuracy = ', m.result().numpy())\n",
    "\n",
    "from sklearn.metrics import cohen_kappa_score\n",
    "kappa_score = cohen_kappa_score(y_test_pred.reshape(-1), predicted_img.reshape(-1))\n",
    "print(\"Kappa:\", kappa_score)"
   ]
  },
  {
   "cell_type": "code",
   "execution_count": 49,
   "outputs": [
    {
     "data": {
      "text/plain": "<Figure size 800x600 with 1 Axes>",
      "image/png": "[encoded data removed]"
     },
     "metadata": {},
     "output_type": "display_data"
    }
   ],
   "source": [
    "# AUC curve\n",
    "from sklearn.preprocessing import label_binarize\n",
    "from sklearn.metrics import roc_curve, auc\n",
    "n_classes = 4\n",
    "confusion_matrix = metrics.confusion_matrix(y_test_pred.reshape(-1), predicted_img.reshape(-1))\n",
    "y_true = y_test_pred.reshape(-1)\n",
    "y_true_binary = label_binarize(y_true, classes=np.arange(n_classes))\n",
    "\n",
    "fpr = [None] * n_classes\n",
    "tpr = [None] * n_classes\n",
    "roc_auc = [None] * n_classes\n",
    "\n",
    "for i in range(n_classes):\n",
    "    fpr[i], tpr[i], _ = roc_curve(y_true_binary[:, i], prediction.reshape(2359296, 4)[:, i])\n",
    "    roc_auc[i] = auc(fpr[i], tpr[i])\n",
    "\n",
    "plt.figure(figsize=(8, 6))\n",
    "colors = ['b', 'g', 'r', 'c']  # Add more colors if needed\n",
    "for i in range(n_classes):\n",
    "    plt.plot(fpr[i], tpr[i], color=colors[i], lw=2, label=f'Class {i} (AUC = {roc_auc[i]:.4f})')\n",
    "\n",
    "plt.plot([0, 1], [0, 1], 'k--', lw=2)\n",
    "plt.xlim([0.0, 1.0])\n",
    "plt.ylim([0.0, 1.05])\n",
    "plt.xlabel('False Positive Rate')\n",
    "plt.ylabel('True Positive Rate')\n",
    "plt.title('ROC Curve for Multiclass Classification (One-vs-All)')\n",
    "plt.legend(loc='lower right')\n",
    "plt.show()\n"
   ],
   "metadata": {
    "collapsed": false,
    "ExecuteTime": {
     "end_time": "2023-10-09T07:26:39.256191100Z",
     "start_time": "2023-10-09T07:26:37.536307500Z"
    }
   },
   "id": "ccae46efa567eda"
  },
  {
   "cell_type": "code",
   "execution_count": 45,
   "outputs": [
    {
     "name": "stdout",
     "output_type": "stream",
     "text": [
      "(2359296, 4)\n",
      "(36, 256, 256)\n",
      "(2359296, 4)\n"
     ]
    }
   ],
   "source": [
    "# print(np.unique(y_test_pred))\n",
    "# print(np.unique(predicted_img))\n",
    "print(prediction.reshape(2359296, 4).shape)\n",
    "print(test_masks.shape)\n",
    "print(y_true_binary.shape)"
   ],
   "metadata": {
    "collapsed": false,
    "ExecuteTime": {
     "end_time": "2023-10-09T07:20:32.256578500Z",
     "start_time": "2023-10-09T07:20:32.238619700Z"
    }
   },
   "id": "1fd7fbcfcaad5301"
  },
  {
   "cell_type": "markdown",
   "source": [
    "Export"
   ],
   "metadata": {
    "collapsed": false
   },
   "id": "88be237e8f5daa03"
  },
  {
   "cell_type": "code",
   "execution_count": null,
   "outputs": [],
   "source": [
    "# Export prediction patches\n",
    "def createGeotiff(out, data, gt, prj):\n",
    "    driver = gdal.GetDriverByName('GTiff')\n",
    "    rows, cols = data.shape\n",
    "    rasterDS = driver.Create(out, cols, rows, 1, gdal.GDT_Int32)\n",
    "    rasterDS.SetGeoTransform(gt)\n",
    "    rasterDS.SetProjection(prj)\n",
    "    band = rasterDS.GetRasterBand(1)\n",
    "    band.WriteArray(data)\n",
    "    rasterDS = None\n",
    "\n",
    "predicted = np.expand_dims(test_list, 0)\n",
    "prediction = (model.predict(test_list))\n",
    "print(prediction.shape)\n",
    "predicted_img = np.argmax(prediction, axis=3)[:,:,:]\n",
    "print(np.unique(predicted_img))\n",
    "\n",
    "\n",
    "\n",
    "i = 0\n",
    "for directory_path in glob.glob(r\"C:\\Document\\University\\2023_Spring_Junior\\GEOG_491\\Dataset\\August_Complex\\Deep_learning\\256\\testing_image\\images\"):\n",
    "    for img_path in glob.glob(os.path.join(directory_path, \"*.tif\")):\n",
    "        out = rf\"C:\\Document\\University\\2023_Spring_Junior\\GEOG_491\\Dataset\\August_Complex\\Deep_learning\\models_new\\output\\FCN\\{i:d}.tif\"\n",
    "        ds = gdal.Open(img_path)\n",
    "        rows = ds.RasterYSize\n",
    "        cols = ds.RasterXSize\n",
    "        bands = ds.RasterCount\n",
    "        gt = ds.GetGeoTransform()\n",
    "        prj = ds.GetProjectionRef()\n",
    "\n",
    "        classification = predicted_img[i].reshape((rows,cols))\n",
    "        createGeotiff(out,classification,gt,prj)\n",
    "\n",
    "        i = i+1\n"
   ],
   "metadata": {
    "collapsed": false
   },
   "id": "5eec63cf06552096"
  },
  {
   "cell_type": "markdown",
   "id": "55cd8860",
   "metadata": {},
   "source": [
    "Test #2"
   ]
  },
  {
   "cell_type": "code",
   "execution_count": null,
   "id": "72f557e6",
   "metadata": {},
   "outputs": [],
   "source": [
    "test_images = []\n",
    "image_names = glob.glob(r\"C:\\Document\\University\\2023_Spring_Junior\\GEOG_491\\Dataset\\August_Complex\\Deep_learning\\256\\testing_image\\images/*.tif\")\n",
    "image_names.sort()\n",
    "for img_path in image_names:\n",
    "      # print(img_path)\n",
    "    tiff_image = gdal.Open(img_path, 0)\n",
    "    band7 = tiff_image.GetRasterBand(7).ReadAsArray()\n",
    "    band8 = tiff_image.GetRasterBand(8).ReadAsArray()\n",
    "    band9 = tiff_image.GetRasterBand(9).ReadAsArray()\n",
    "\n",
    "    X = np.stack((band9, band8, band7), axis=-1)\n",
    "    \n",
    "    test_images.append(X)\n",
    "\n",
    "test_images = np.array(test_images)\n",
    "print(\"mean post\", np.mean(test_images))\n",
    "# normalize\n",
    "# test_images = test_images / (2**16-1)\n",
    "# test_images = test_images.astype(int)\n",
    "\n",
    "# low, high = np.percentile(X, (2, 98))\n",
    "# test_images = (test_images-low)/(high-low)\n",
    "print(test_images.shape)\n",
    "\n",
    "test_masks = []\n",
    "image_names = glob.glob(r\"C:\\Document\\University\\2023_Spring_Junior\\GEOG_491\\Dataset\\August_Complex\\Deep_learning\\mask\\ps\\multi\\truth_2\\test\\images/*.tif\")\n",
    "#\"/content/drive/MyDrive/Colab Notebooks/Deep_learning/256/ps/test_threshold_3/images/*.tif\"\n",
    "image_names.sort()\n",
    "for img_path in image_names:\n",
    "  #  print(img_path)\n",
    "    tiff_image = gdal.Open(img_path, 0)\n",
    "    band1 = tiff_image.GetRasterBand(1).ReadAsArray()\n",
    "    test_masks.append(band1)\n",
    "\n",
    "test_masks = np.array(test_masks)\n",
    "# test_masks = test_masks\n",
    "# masks = train_masks.astype(int)\n",
    "print(np.unique(test_masks))\n",
    "\n",
    "y_test_cat = to_categorical(test_masks, num_classes=4)\n",
    "y_test_cat = y_test_cat.astype(int)\n",
    "print(y_test_cat.shape)\n",
    "print(np.unique(y_test_cat))\n",
    "\n",
    "test_images_pre = []\n",
    "image_names = glob.glob(r\"C:\\Document\\University\\2023_Spring_Junior\\GEOG_491\\Dataset\\August_Complex\\Deep_learning\\256\\pre\\testing\\images/*.tif\")\n",
    "image_names.sort()\n",
    "for img_path in image_names:\n",
    "    # print(img_path)\n",
    "    tiff_image = gdal.Open(img_path, 0)\n",
    "    band7 = tiff_image.GetRasterBand(7).ReadAsArray()\n",
    "    band8 = tiff_image.GetRasterBand(8).ReadAsArray()\n",
    "    band9 = tiff_image.GetRasterBand(9).ReadAsArray()\n",
    "\n",
    "    X = np.stack((band9, band8, band7), axis=-1)\n",
    "    test_images_pre.append(X)\n",
    "\n",
    "test_images_pre = np.array(test_images_pre)\n",
    "print(\"mean pre\", np.mean(test_images_pre))\n",
    "# normalize\n",
    "# test_images_pre = test_images / (2**16-1)\n",
    "# test_images_pre = test_images_pre.astype(int)\n",
    "\n",
    "# low, high = np.percentile(X, (2, 98))\n",
    "# test_images_pre = (test_images_pre)/(high-low)\n",
    "print(test_images_pre.shape)"
   ]
  },
  {
   "cell_type": "code",
   "execution_count": null,
   "id": "42e8cae1",
   "metadata": {},
   "outputs": [],
   "source": [
    "test_list = [test_images, test_images_pre]"
   ]
  },
  {
   "cell_type": "code",
   "execution_count": null,
   "id": "3ec88600",
   "metadata": {},
   "outputs": [],
   "source": [
    "from sklearn.metrics import classification_report\n",
    "from sklearn import metrics\n",
    "import tensorflow as tf\n",
    "predicted = np.expand_dims(test_images, 0)\n",
    "prediction = (model.predict(test_list))\n",
    "print(prediction.shape)\n",
    "predicted_img = np.argmax(prediction, axis=3)[:,:,:]\n",
    "y_test_pred = test_masks\n",
    "# print(y_test.shape)\n",
    "print(predicted_img.shape)\n",
    "cm = metrics.confusion_matrix(y_test_pred.reshape(-1), predicted_img.reshape(-1))\n",
    "print(cm, \"\\n\")\n",
    "print(classification_report(y_test_pred.reshape(-1), predicted_img.reshape(-1), digits=4))\n",
    "\n",
    "from keras.metrics import MeanIoU\n",
    "IOU_keras = MeanIoU(num_classes=4)\n",
    "IOU_keras.update_state(y_test_pred.reshape(-1), predicted_img.reshape(-1))\n",
    "print(\"Mean IoU = \", IOU_keras.result().numpy())\n",
    "values = np.array(IOU_keras.get_weights()).reshape(4, 4)\n",
    "class1_IoU = values[0,0]/(values[0,0] + values[0,1] + values[0,2] + values[0,3] + values[1,0] + values[2,0] + values[3,0])\n",
    "class2_IoU = values[1,1]/(values[1,1] + values[1,0] + values[1,2] + values[1,3] + values[0,1] + values[2,1] + values[3,1])\n",
    "class3_IoU = values[2,2]/(values[2,2] + values[2,0] + values[2,1] + values[2,3] + values[0,2] + values[1,2] + values[3,2])\n",
    "class4_IoU = values[3,3]/(values[3,3] + values[3,0] + values[3,1] + values[3,2] + values[0,3] + values[1,3] + values[2,3])\n",
    "print(\"class1 IoU = \", class1_IoU)\n",
    "print(\"class2 IoU = \", class2_IoU)\n",
    "print(\"class3 IoU = \", class3_IoU)\n",
    "print(\"class4 IoU = \", class4_IoU)\n",
    "\n",
    "m = tf.keras.metrics.Accuracy()\n",
    "m.update_state(y_test_pred.reshape(-1), predicted_img.reshape(-1))\n",
    "print('\\n', 'Accuracy = ', m.result().numpy())\n",
    "kappa_score = cohen_kappa_score(y_test_pred.reshape(-1), predicted_img.reshape(-1))\n",
    "print(\"Kappa:\", kappa_score)"
   ]
  },
  {
   "cell_type": "code",
   "execution_count": null,
   "id": "6e635ae4",
   "metadata": {},
   "outputs": [],
   "source": []
  }
 ],
 "metadata": {
  "kernelspec": {
   "display_name": "Python 3 (ipykernel)",
   "language": "python",
   "name": "python3"
  },
  "language_info": {
   "codemirror_mode": {
    "name": "ipython",
    "version": 3
   },
   "file_extension": ".py",
   "mimetype": "text/x-python",
   "name": "python",
   "nbconvert_exporter": "python",
   "pygments_lexer": "ipython3",
   "version": "3.10.12"
  }
 },
 "nbformat": 4,
 "nbformat_minor": 5
}
